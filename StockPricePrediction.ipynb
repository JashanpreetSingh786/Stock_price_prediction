{
  "nbformat": 4,
  "nbformat_minor": 0,
  "metadata": {
    "colab": {
      "name": "StockPricePrediction.ipynb",
      "provenance": [],
      "collapsed_sections": []
    },
    "kernelspec": {
      "name": "python3",
      "display_name": "Python 3"
    },
    "language_info": {
      "name": "python"
    }
  },
  "cells": [
    {
      "cell_type": "code",
      "execution_count": null,
      "metadata": {
        "id": "CjU2cGvDx99i"
      },
      "outputs": [],
      "source": [
        "### Keras and Tensorflow >2.0"
      ]
    },
    {
      "cell_type": "code",
      "source": [
        "### Data Collection\n",
        "import pandas_datareader as pdr\n",
        "key=\"45c70fb09fc558f102d1f22789c7d648dbb40a57\""
      ],
      "metadata": {
        "id": "QSpyTCgryslo"
      },
      "execution_count": null,
      "outputs": []
    },
    {
      "cell_type": "code",
      "source": [
        "df = pdr.get_data_tiingo('AAPL', api_key=key)\n"
      ],
      "metadata": {
        "colab": {
          "base_uri": "https://localhost:8080/"
        },
        "id": "aMnbDKmU0HNL",
        "outputId": "bf0499fe-bae7-404b-a950-5636005caf24"
      },
      "execution_count": null,
      "outputs": [
        {
          "output_type": "stream",
          "name": "stderr",
          "text": [
            "/usr/local/lib/python3.7/dist-packages/pandas_datareader/tiingo.py:234: FutureWarning: In a future version of pandas all arguments of concat except for the argument 'objs' will be keyword-only\n",
            "  return pd.concat(dfs, self._concat_axis)\n"
          ]
        }
      ]
    },
    {
      "cell_type": "code",
      "source": [
        "df.to_csv('AAPL.csv')\n"
      ],
      "metadata": {
        "id": "tWd5RnFT0Hdh"
      },
      "execution_count": null,
      "outputs": []
    },
    {
      "cell_type": "code",
      "source": [
        "import pandas as pd\n"
      ],
      "metadata": {
        "id": "tNoHJbeu09hv"
      },
      "execution_count": null,
      "outputs": []
    },
    {
      "cell_type": "code",
      "source": [
        "df=pd.read_csv('AAPL.csv')\n"
      ],
      "metadata": {
        "id": "JbjUnFJ509tA"
      },
      "execution_count": null,
      "outputs": []
    },
    {
      "cell_type": "code",
      "source": [
        "df1=df.reset_index()['close']"
      ],
      "metadata": {
        "id": "xaM50Tvm14ed"
      },
      "execution_count": null,
      "outputs": []
    },
    {
      "cell_type": "code",
      "source": [
        "import matplotlib.pyplot as plt\n",
        "plt.plot(df1)"
      ],
      "metadata": {
        "colab": {
          "base_uri": "https://localhost:8080/",
          "height": 282
        },
        "id": "ItfLtAZR14mN",
        "outputId": "7e859b17-63ce-4f2a-c92e-33a8431685c7"
      },
      "execution_count": null,
      "outputs": [
        {
          "output_type": "execute_result",
          "data": {
            "text/plain": [
              "[<matplotlib.lines.Line2D at 0x7fa9f2bfde90>]"
            ]
          },
          "metadata": {},
          "execution_count": 12
        },
        {
          "output_type": "display_data",
          "data": {
            "text/plain": [
              "<Figure size 432x288 with 1 Axes>"
            ],
            "image/png": "[encoded data removed]"
          },
          "metadata": {
            "needs_background": "light"
          }
        }
      ]
    },
    {
      "cell_type": "code",
      "source": [
        "### LSTM are sensitive to the scale of the data. so we apply MinMax scaler "
      ],
      "metadata": {
        "id": "dX7cLx1N19ti"
      },
      "execution_count": null,
      "outputs": []
    },
    {
      "cell_type": "code",
      "source": [
        "import numpy as np\n"
      ],
      "metadata": {
        "id": "r8IAjafm19vM"
      },
      "execution_count": null,
      "outputs": []
    },
    {
      "cell_type": "code",
      "source": [
        "from sklearn.preprocessing import MinMaxScaler\n",
        "scaler=MinMaxScaler(feature_range=(0,1))\n",
        "df1=scaler.fit_transform(np.array(df1).reshape(-1,1))\n"
      ],
      "metadata": {
        "id": "ZcB81f1C19yd"
      },
      "execution_count": null,
      "outputs": []
    },
    {
      "cell_type": "code",
      "source": [
        "##splitting dataset into train and test split\n",
        "training_size=int(len(df1)*0.65)\n",
        "test_size=len(df1)-training_size\n",
        "train_data,test_data=df1[0:training_size,:],df1[training_size:len(df1),:1]\n"
      ],
      "metadata": {
        "id": "HsxAZ12N190G"
      },
      "execution_count": null,
      "outputs": []
    },
    {
      "cell_type": "code",
      "source": [
        "import numpy\n",
        "# convert an array of values into a dataset matrix\n",
        "def create_dataset(dataset, time_step=1):\n",
        "\tdataX, dataY = [], []\n",
        "\tfor i in range(len(dataset)-time_step-1):\n",
        "\t\ta = dataset[i:(i+time_step), 0]   ###i=0, 0,1,2,3-----99   100 \n",
        "\t\tdataX.append(a)\n",
        "\t\tdataY.append(dataset[i + time_step, 0])\n",
        "\treturn numpy.array(dataX), numpy.array(dataY)"
      ],
      "metadata": {
        "id": "uNrxKrur193H"
      },
      "execution_count": null,
      "outputs": []
    },
    {
      "cell_type": "code",
      "source": [
        "# reshape into X=t,t+1,t+2,t+3 and Y=t+4\n",
        "time_step = 100\n",
        "X_train, y_train = create_dataset(train_data, time_step)\n",
        "X_test, ytest = create_dataset(test_data, time_step)"
      ],
      "metadata": {
        "id": "c4IE24vP2_mS"
      },
      "execution_count": null,
      "outputs": []
    },
    {
      "cell_type": "code",
      "source": [
        "# reshape input to be [samples, time steps, features] which is required for LSTM\n",
        "X_train =X_train.reshape(X_train.shape[0],X_train.shape[1] , 1)\n",
        "X_test = X_test.reshape(X_test.shape[0],X_test.shape[1] , 1)"
      ],
      "metadata": {
        "id": "w97mz_PV2_oe"
      },
      "execution_count": null,
      "outputs": []
    },
    {
      "cell_type": "code",
      "source": [
        "### Create the Stacked LSTM model\n",
        "from tensorflow.keras.models import Sequential\n",
        "from tensorflow.keras.layers import Dense\n",
        "from tensorflow.keras.layers import LSTM"
      ],
      "metadata": {
        "id": "xoHwy6nt2_rY"
      },
      "execution_count": null,
      "outputs": []
    },
    {
      "cell_type": "code",
      "source": [
        "model=Sequential()\n",
        "model.add(LSTM(50,return_sequences=True,input_shape=(100,1)))\n",
        "model.add(LSTM(50,return_sequences=True))\n",
        "model.add(LSTM(50))\n",
        "model.add(Dense(1))\n",
        "model.compile(loss='mean_squared_error',optimizer='adam')"
      ],
      "metadata": {
        "id": "OlhWXKpE5_kd"
      },
      "execution_count": null,
      "outputs": []
    },
    {
      "cell_type": "code",
      "source": [
        "model.fit(X_train,y_train,validation_data=(X_test,ytest),epochs=100,batch_size=64,verbose=1)"
      ],
      "metadata": {
        "colab": {
          "base_uri": "https://localhost:8080/"
        },
        "id": "N8RviT946C8Y",
        "outputId": "6cd994b7-872f-4caa-e1b8-55f6dc26483c"
      },
      "execution_count": null,
      "outputs": [
        {
          "output_type": "stream",
          "name": "stdout",
          "text": [
            "Epoch 1/100\n",
            "12/12 [==============================] - 9s 284ms/step - loss: 0.0187 - val_loss: 6.0913e-04\n",
            "Epoch 2/100\n",
            "12/12 [==============================] - 2s 180ms/step - loss: 0.0058 - val_loss: 0.0035\n",
            "Epoch 3/100\n",
            "12/12 [==============================] - 2s 181ms/step - loss: 0.0022 - val_loss: 6.6552e-04\n",
            "Epoch 4/100\n",
            "12/12 [==============================] - 2s 179ms/step - loss: 0.0014 - val_loss: 3.7753e-04\n",
            "Epoch 5/100\n",
            "12/12 [==============================] - 2s 177ms/step - loss: 0.0012 - val_loss: 2.9881e-04\n",
            "Epoch 6/100\n",
            "12/12 [==============================] - 2s 177ms/step - loss: 0.0011 - val_loss: 2.9904e-04\n",
            "Epoch 7/100\n",
            "12/12 [==============================] - 2s 178ms/step - loss: 0.0012 - val_loss: 3.6486e-04\n",
            "Epoch 8/100\n",
            "12/12 [==============================] - 2s 178ms/step - loss: 0.0011 - val_loss: 2.7634e-04\n",
            "Epoch 9/100\n",
            "12/12 [==============================] - 2s 180ms/step - loss: 0.0010 - val_loss: 2.8195e-04\n",
            "Epoch 10/100\n",
            "12/12 [==============================] - 2s 184ms/step - loss: 9.8361e-04 - val_loss: 2.6419e-04\n",
            "Epoch 11/100\n",
            "12/12 [==============================] - 2s 180ms/step - loss: 9.2579e-04 - val_loss: 4.1108e-04\n",
            "Epoch 12/100\n",
            "12/12 [==============================] - 2s 180ms/step - loss: 0.0010 - val_loss: 4.1813e-04\n",
            "Epoch 13/100\n",
            "12/12 [==============================] - 2s 183ms/step - loss: 9.2405e-04 - val_loss: 3.5715e-04\n",
            "Epoch 14/100\n",
            "12/12 [==============================] - 2s 182ms/step - loss: 8.0953e-04 - val_loss: 2.9881e-04\n",
            "Epoch 15/100\n",
            "12/12 [==============================] - 2s 179ms/step - loss: 7.6307e-04 - val_loss: 2.3814e-04\n",
            "Epoch 16/100\n",
            "12/12 [==============================] - 2s 179ms/step - loss: 8.6547e-04 - val_loss: 4.7366e-04\n",
            "Epoch 17/100\n",
            "12/12 [==============================] - 2s 178ms/step - loss: 9.4521e-04 - val_loss: 3.2703e-04\n",
            "Epoch 18/100\n",
            "12/12 [==============================] - 2s 178ms/step - loss: 7.2870e-04 - val_loss: 2.2839e-04\n",
            "Epoch 19/100\n",
            "12/12 [==============================] - 2s 181ms/step - loss: 7.6159e-04 - val_loss: 2.6254e-04\n",
            "Epoch 20/100\n",
            "12/12 [==============================] - 2s 181ms/step - loss: 7.0061e-04 - val_loss: 2.4539e-04\n",
            "Epoch 21/100\n",
            "12/12 [==============================] - 2s 186ms/step - loss: 6.4417e-04 - val_loss: 3.3516e-04\n",
            "Epoch 22/100\n",
            "12/12 [==============================] - 2s 183ms/step - loss: 7.3048e-04 - val_loss: 2.2578e-04\n",
            "Epoch 23/100\n",
            "12/12 [==============================] - 2s 182ms/step - loss: 6.8332e-04 - val_loss: 3.8793e-04\n",
            "Epoch 24/100\n",
            "12/12 [==============================] - 2s 182ms/step - loss: 9.8239e-04 - val_loss: 2.5353e-04\n",
            "Epoch 25/100\n",
            "12/12 [==============================] - 2s 186ms/step - loss: 7.3924e-04 - val_loss: 2.3662e-04\n",
            "Epoch 26/100\n",
            "12/12 [==============================] - 2s 180ms/step - loss: 6.3877e-04 - val_loss: 2.4219e-04\n",
            "Epoch 27/100\n",
            "12/12 [==============================] - 2s 180ms/step - loss: 6.3762e-04 - val_loss: 2.6890e-04\n",
            "Epoch 28/100\n",
            "12/12 [==============================] - 2s 178ms/step - loss: 5.6928e-04 - val_loss: 2.0832e-04\n",
            "Epoch 29/100\n",
            "12/12 [==============================] - 2s 180ms/step - loss: 5.6025e-04 - val_loss: 2.2721e-04\n",
            "Epoch 30/100\n",
            "12/12 [==============================] - 2s 181ms/step - loss: 6.0039e-04 - val_loss: 2.0805e-04\n",
            "Epoch 31/100\n",
            "12/12 [==============================] - 2s 181ms/step - loss: 5.6692e-04 - val_loss: 2.5531e-04\n",
            "Epoch 32/100\n",
            "12/12 [==============================] - 2s 180ms/step - loss: 5.3846e-04 - val_loss: 2.0160e-04\n",
            "Epoch 33/100\n",
            "12/12 [==============================] - 2s 179ms/step - loss: 5.5408e-04 - val_loss: 2.6636e-04\n",
            "Epoch 34/100\n",
            "12/12 [==============================] - 2s 182ms/step - loss: 5.6089e-04 - val_loss: 2.4184e-04\n",
            "Epoch 35/100\n",
            "12/12 [==============================] - 2s 179ms/step - loss: 5.5424e-04 - val_loss: 2.7105e-04\n",
            "Epoch 36/100\n",
            "12/12 [==============================] - 2s 178ms/step - loss: 5.3749e-04 - val_loss: 2.7653e-04\n",
            "Epoch 37/100\n",
            "12/12 [==============================] - 2s 180ms/step - loss: 6.0200e-04 - val_loss: 2.8737e-04\n",
            "Epoch 38/100\n",
            "12/12 [==============================] - 2s 180ms/step - loss: 5.5735e-04 - val_loss: 2.0490e-04\n",
            "Epoch 39/100\n",
            "12/12 [==============================] - 2s 179ms/step - loss: 5.4452e-04 - val_loss: 2.2269e-04\n",
            "Epoch 40/100\n",
            "12/12 [==============================] - 2s 178ms/step - loss: 5.4282e-04 - val_loss: 1.9149e-04\n",
            "Epoch 41/100\n",
            "12/12 [==============================] - 2s 177ms/step - loss: 5.6958e-04 - val_loss: 3.1799e-04\n",
            "Epoch 42/100\n",
            "12/12 [==============================] - 2s 179ms/step - loss: 5.5263e-04 - val_loss: 2.1161e-04\n",
            "Epoch 43/100\n",
            "12/12 [==============================] - 2s 179ms/step - loss: 5.3842e-04 - val_loss: 2.6720e-04\n",
            "Epoch 44/100\n",
            "12/12 [==============================] - 2s 177ms/step - loss: 6.0915e-04 - val_loss: 1.9597e-04\n",
            "Epoch 45/100\n",
            "12/12 [==============================] - 2s 178ms/step - loss: 6.2309e-04 - val_loss: 2.6207e-04\n",
            "Epoch 46/100\n",
            "12/12 [==============================] - 2s 177ms/step - loss: 5.3879e-04 - val_loss: 1.9930e-04\n",
            "Epoch 47/100\n",
            "12/12 [==============================] - 2s 183ms/step - loss: 5.1547e-04 - val_loss: 2.0008e-04\n",
            "Epoch 48/100\n",
            "12/12 [==============================] - 2s 178ms/step - loss: 5.2160e-04 - val_loss: 2.1982e-04\n",
            "Epoch 49/100\n",
            "12/12 [==============================] - 2s 180ms/step - loss: 5.0426e-04 - val_loss: 1.8325e-04\n",
            "Epoch 50/100\n",
            "12/12 [==============================] - 2s 179ms/step - loss: 5.1360e-04 - val_loss: 2.1460e-04\n",
            "Epoch 51/100\n",
            "12/12 [==============================] - 2s 178ms/step - loss: 5.0521e-04 - val_loss: 1.8117e-04\n",
            "Epoch 52/100\n",
            "12/12 [==============================] - 2s 179ms/step - loss: 7.9148e-04 - val_loss: 4.6399e-04\n",
            "Epoch 53/100\n",
            "12/12 [==============================] - 2s 180ms/step - loss: 8.5363e-04 - val_loss: 1.9559e-04\n",
            "Epoch 54/100\n",
            "12/12 [==============================] - 2s 180ms/step - loss: 5.5023e-04 - val_loss: 2.0154e-04\n",
            "Epoch 55/100\n",
            "12/12 [==============================] - 2s 179ms/step - loss: 5.3851e-04 - val_loss: 1.8273e-04\n",
            "Epoch 56/100\n",
            "12/12 [==============================] - 2s 180ms/step - loss: 5.4102e-04 - val_loss: 4.0694e-04\n",
            "Epoch 57/100\n",
            "12/12 [==============================] - 2s 179ms/step - loss: 6.1443e-04 - val_loss: 1.7847e-04\n",
            "Epoch 58/100\n",
            "12/12 [==============================] - 2s 179ms/step - loss: 5.6379e-04 - val_loss: 2.1687e-04\n",
            "Epoch 59/100\n",
            "12/12 [==============================] - 2s 181ms/step - loss: 5.3401e-04 - val_loss: 1.9628e-04\n",
            "Epoch 60/100\n",
            "12/12 [==============================] - 2s 180ms/step - loss: 4.8222e-04 - val_loss: 1.9862e-04\n",
            "Epoch 61/100\n",
            "12/12 [==============================] - 2s 182ms/step - loss: 4.8887e-04 - val_loss: 1.7246e-04\n",
            "Epoch 62/100\n",
            "12/12 [==============================] - 2s 181ms/step - loss: 5.1181e-04 - val_loss: 2.1659e-04\n",
            "Epoch 63/100\n",
            "12/12 [==============================] - 2s 178ms/step - loss: 4.9831e-04 - val_loss: 1.8924e-04\n",
            "Epoch 64/100\n",
            "12/12 [==============================] - 2s 179ms/step - loss: 6.8814e-04 - val_loss: 2.0883e-04\n",
            "Epoch 65/100\n",
            "12/12 [==============================] - 2s 179ms/step - loss: 5.6380e-04 - val_loss: 1.7282e-04\n",
            "Epoch 66/100\n",
            "12/12 [==============================] - 2s 180ms/step - loss: 6.7333e-04 - val_loss: 3.8769e-04\n",
            "Epoch 67/100\n",
            "12/12 [==============================] - 2s 179ms/step - loss: 0.0012 - val_loss: 2.7074e-04\n",
            "Epoch 68/100\n",
            "12/12 [==============================] - 2s 181ms/step - loss: 5.5282e-04 - val_loss: 1.8941e-04\n",
            "Epoch 69/100\n",
            "12/12 [==============================] - 2s 180ms/step - loss: 6.4412e-04 - val_loss: 1.7379e-04\n",
            "Epoch 70/100\n",
            "12/12 [==============================] - 2s 178ms/step - loss: 5.6300e-04 - val_loss: 3.5573e-04\n",
            "Epoch 71/100\n",
            "12/12 [==============================] - 2s 181ms/step - loss: 5.4811e-04 - val_loss: 3.1625e-04\n",
            "Epoch 72/100\n",
            "12/12 [==============================] - 2s 180ms/step - loss: 6.9386e-04 - val_loss: 1.8711e-04\n",
            "Epoch 73/100\n",
            "12/12 [==============================] - 2s 179ms/step - loss: 5.7049e-04 - val_loss: 1.6373e-04\n",
            "Epoch 74/100\n",
            "12/12 [==============================] - 2s 181ms/step - loss: 6.1138e-04 - val_loss: 1.7219e-04\n",
            "Epoch 75/100\n",
            "12/12 [==============================] - 2s 181ms/step - loss: 5.0756e-04 - val_loss: 2.0842e-04\n",
            "Epoch 76/100\n",
            "12/12 [==============================] - 2s 180ms/step - loss: 5.3171e-04 - val_loss: 2.6631e-04\n",
            "Epoch 77/100\n",
            "12/12 [==============================] - 2s 180ms/step - loss: 5.6923e-04 - val_loss: 1.7443e-04\n",
            "Epoch 78/100\n",
            "12/12 [==============================] - 2s 179ms/step - loss: 4.6087e-04 - val_loss: 1.7758e-04\n",
            "Epoch 79/100\n",
            "12/12 [==============================] - 2s 180ms/step - loss: 4.6438e-04 - val_loss: 1.5934e-04\n",
            "Epoch 80/100\n",
            "12/12 [==============================] - 2s 179ms/step - loss: 4.8800e-04 - val_loss: 1.5759e-04\n",
            "Epoch 81/100\n",
            "12/12 [==============================] - 2s 179ms/step - loss: 4.6531e-04 - val_loss: 1.9597e-04\n",
            "Epoch 82/100\n",
            "12/12 [==============================] - 2s 178ms/step - loss: 6.6443e-04 - val_loss: 1.7295e-04\n",
            "Epoch 83/100\n",
            "12/12 [==============================] - 2s 180ms/step - loss: 6.1821e-04 - val_loss: 1.5753e-04\n",
            "Epoch 84/100\n",
            "12/12 [==============================] - 2s 180ms/step - loss: 4.4040e-04 - val_loss: 2.1959e-04\n",
            "Epoch 85/100\n",
            "12/12 [==============================] - 2s 182ms/step - loss: 5.6468e-04 - val_loss: 2.1482e-04\n",
            "Epoch 86/100\n",
            "12/12 [==============================] - 2s 181ms/step - loss: 4.6740e-04 - val_loss: 1.5181e-04\n",
            "Epoch 87/100\n",
            "12/12 [==============================] - 2s 182ms/step - loss: 5.6503e-04 - val_loss: 2.3588e-04\n",
            "Epoch 88/100\n",
            "12/12 [==============================] - 2s 177ms/step - loss: 5.1364e-04 - val_loss: 2.0571e-04\n",
            "Epoch 89/100\n",
            "12/12 [==============================] - 2s 182ms/step - loss: 4.3863e-04 - val_loss: 1.5057e-04\n",
            "Epoch 90/100\n",
            "12/12 [==============================] - 2s 182ms/step - loss: 5.3517e-04 - val_loss: 1.4825e-04\n",
            "Epoch 91/100\n",
            "12/12 [==============================] - 2s 182ms/step - loss: 4.2590e-04 - val_loss: 1.5806e-04\n",
            "Epoch 92/100\n",
            "12/12 [==============================] - 2s 180ms/step - loss: 4.3753e-04 - val_loss: 1.6431e-04\n",
            "Epoch 93/100\n",
            "12/12 [==============================] - 2s 181ms/step - loss: 4.3945e-04 - val_loss: 1.5894e-04\n",
            "Epoch 94/100\n",
            "12/12 [==============================] - 2s 180ms/step - loss: 4.3513e-04 - val_loss: 1.4405e-04\n",
            "Epoch 95/100\n",
            "12/12 [==============================] - 2s 181ms/step - loss: 4.3368e-04 - val_loss: 1.8283e-04\n",
            "Epoch 96/100\n",
            "12/12 [==============================] - 2s 180ms/step - loss: 4.1440e-04 - val_loss: 1.4222e-04\n",
            "Epoch 97/100\n",
            "12/12 [==============================] - 2s 180ms/step - loss: 4.0791e-04 - val_loss: 1.4760e-04\n",
            "Epoch 98/100\n",
            "12/12 [==============================] - 2s 178ms/step - loss: 4.1867e-04 - val_loss: 1.7766e-04\n",
            "Epoch 99/100\n",
            "12/12 [==============================] - 2s 177ms/step - loss: 4.3627e-04 - val_loss: 1.6693e-04\n",
            "Epoch 100/100\n",
            "12/12 [==============================] - 2s 179ms/step - loss: 4.1163e-04 - val_loss: 1.4554e-04\n"
          ]
        },
        {
          "output_type": "execute_result",
          "data": {
            "text/plain": [
              "<keras.callbacks.History at 0x7fa977177710>"
            ]
          },
          "metadata": {},
          "execution_count": 22
        }
      ]
    },
    {
      "cell_type": "code",
      "source": [
        "import tensorflow as tf"
      ],
      "metadata": {
        "id": "77MO3Adm6DDM"
      },
      "execution_count": null,
      "outputs": []
    },
    {
      "cell_type": "code",
      "source": [
        "### Lets Do the prediction and check performance metrics\n",
        "train_predict=model.predict(X_train)\n",
        "test_predict=model.predict(X_test)"
      ],
      "metadata": {
        "id": "QVAApAgu8HwI"
      },
      "execution_count": null,
      "outputs": []
    },
    {
      "cell_type": "code",
      "source": [
        "##Transformback to original form\n",
        "train_predict=scaler.inverse_transform(train_predict)\n",
        "test_predict=scaler.inverse_transform(test_predict)"
      ],
      "metadata": {
        "id": "S8sdwFFQ8H53"
      },
      "execution_count": null,
      "outputs": []
    },
    {
      "cell_type": "code",
      "source": [
        "### Calculate RMSE performance metrics\n",
        "import math\n",
        "from sklearn.metrics import mean_squared_error\n",
        "math.sqrt(mean_squared_error(y_train,train_predict))"
      ],
      "metadata": {
        "colab": {
          "base_uri": "https://localhost:8080/"
        },
        "id": "ZONqBeQQ8Qfo",
        "outputId": "53d99e0e-703d-4ed8-fdd0-1edadf2232dc"
      },
      "execution_count": null,
      "outputs": [
        {
          "output_type": "execute_result",
          "data": {
            "text/plain": [
              "227.05019281414866"
            ]
          },
          "metadata": {},
          "execution_count": 26
        }
      ]
    },
    {
      "cell_type": "code",
      "source": [
        "### Test Data RMSE\n",
        "math.sqrt(mean_squared_error(ytest,test_predict))"
      ],
      "metadata": {
        "colab": {
          "base_uri": "https://localhost:8080/"
        },
        "id": "uUFtdiV18Qq6",
        "outputId": "3cd4d638-f936-4fdc-a873-930e6d91f2e8"
      },
      "execution_count": null,
      "outputs": [
        {
          "output_type": "execute_result",
          "data": {
            "text/plain": [
              "149.60852810512884"
            ]
          },
          "metadata": {},
          "execution_count": 27
        }
      ]
    },
    {
      "cell_type": "code",
      "source": [
        "### Plotting \n",
        "# shift train predictions for plotting\n",
        "look_back=100\n",
        "trainPredictPlot = numpy.empty_like(df1)\n",
        "trainPredictPlot[:, :] = np.nan\n",
        "trainPredictPlot[look_back:len(train_predict)+look_back, :] = train_predict\n",
        "# shift test predictions for plotting\n",
        "testPredictPlot = numpy.empty_like(df1)\n",
        "testPredictPlot[:, :] = numpy.nan\n",
        "testPredictPlot[len(train_predict)+(look_back*2)+1:len(df1)-1, :] = test_predict\n",
        "# plot baseline and predictions\n",
        "plt.plot(scaler.inverse_transform(df1))\n",
        "plt.plot(trainPredictPlot)\n",
        "plt.plot(testPredictPlot)\n",
        "plt.show()"
      ],
      "metadata": {
        "colab": {
          "base_uri": "https://localhost:8080/",
          "height": 265
        },
        "id": "zwVNY_3n8YQq",
        "outputId": "8305465f-e879-4af0-e35f-8a66e53ee598"
      },
      "execution_count": null,
      "outputs": [
        {
          "output_type": "display_data",
          "data": {
            "text/plain": [
              "<Figure size 432x288 with 1 Axes>"
            ],
            "image/png": "[encoded data removed]"
          },
          "metadata": {
            "needs_background": "light"
          }
        }
      ]
    },
    {
      "cell_type": "code",
      "source": [
        "len(test_data)"
      ],
      "metadata": {
        "colab": {
          "base_uri": "https://localhost:8080/"
        },
        "id": "_OZii82p8YdY",
        "outputId": "733163d4-f3da-4e3e-99e9-977e6b3f72ca"
      },
      "execution_count": null,
      "outputs": [
        {
          "output_type": "execute_result",
          "data": {
            "text/plain": [
              "441"
            ]
          },
          "metadata": {},
          "execution_count": 29
        }
      ]
    },
    {
      "cell_type": "code",
      "source": [
        "x_input=test_data[341:].reshape(1,-1)\n",
        "x_input.shape"
      ],
      "metadata": {
        "colab": {
          "base_uri": "https://localhost:8080/"
        },
        "id": "uoZxyDnk8lGH",
        "outputId": "57721df8-2f20-49cf-dd54-d40d577f52be"
      },
      "execution_count": null,
      "outputs": [
        {
          "output_type": "execute_result",
          "data": {
            "text/plain": [
              "(1, 100)"
            ]
          },
          "metadata": {},
          "execution_count": 30
        }
      ]
    },
    {
      "cell_type": "code",
      "source": [
        "temp_input=list(x_input)\n",
        "temp_input=temp_input[0].tolist()"
      ],
      "metadata": {
        "id": "O7wtJw8J8lOX"
      },
      "execution_count": null,
      "outputs": []
    },
    {
      "cell_type": "code",
      "source": [
        "# demonstrate prediction for next 10 days\n",
        "from numpy import array\n",
        "\n",
        "lst_output=[]\n",
        "n_steps=100\n",
        "i=0\n",
        "while(i<30):\n",
        "    \n",
        "    if(len(temp_input)>100):\n",
        "        #print(temp_input)\n",
        "        x_input=np.array(temp_input[1:])\n",
        "        print(\"{} day input {}\".format(i,x_input))\n",
        "        x_input=x_input.reshape(1,-1)\n",
        "        x_input = x_input.reshape((1, n_steps, 1))\n",
        "        #print(x_input)\n",
        "        yhat = model.predict(x_input, verbose=0)\n",
        "        print(\"{} day output {}\".format(i,yhat))\n",
        "        temp_input.extend(yhat[0].tolist())\n",
        "        temp_input=temp_input[1:]\n",
        "        #print(temp_input)\n",
        "        lst_output.extend(yhat.tolist())\n",
        "        i=i+1\n",
        "    else:\n",
        "        x_input = x_input.reshape((1, n_steps,1))\n",
        "        yhat = model.predict(x_input, verbose=0)\n",
        "        print(yhat[0])\n",
        "        temp_input.extend(yhat[0].tolist())\n",
        "        print(len(temp_input))\n",
        "        lst_output.extend(yhat.tolist())\n",
        "        i=i+1\n",
        "    \n",
        "\n",
        "print(lst_output)"
      ],
      "metadata": {
        "colab": {
          "base_uri": "https://localhost:8080/"
        },
        "id": "T2Q6jORl8r5M",
        "outputId": "864c72ac-243b-4592-bf45-9ba518ba6ec6"
      },
      "execution_count": null,
      "outputs": [
        {
          "output_type": "stream",
          "name": "stdout",
          "text": [
            "[0.13390225]\n",
            "101\n",
            "1 day input [0.18149029 0.16385723 0.16105197 0.15757044 0.16568566 0.17232311\n",
            " 0.17392611 0.18407013 0.18146525 0.18169067 0.17873513 0.17715717\n",
            " 0.18827802 0.18249217 0.17051972 0.16320601 0.16363181 0.1636819\n",
            " 0.17092048 0.17204759 0.1636819  0.16588604 0.15769568 0.14875391\n",
            " 0.14444584 0.13918597 0.13720726 0.13259862 0.1323732  0.13119599\n",
            " 0.15902317 0.17016907 0.16974327 0.17282405 0.16546024 0.16418284\n",
            " 0.16235441 0.1702943  0.17392611 0.16350657 0.15479023 0.15539136\n",
            " 0.16518472 0.16458359 0.15539136 0.15143394 0.14396994 0.13332498\n",
            " 0.14001252 0.14529743 0.1459737  0.14116468 0.14958046 0.14875391\n",
            " 0.14108954 0.13139637 0.12673763 0.14053851 0.12944271 0.11994991\n",
            " 0.1096556  0.1208516  0.13212273 0.13470257 0.14311835 0.14662492\n",
            " 0.15524108 0.1587226  0.16839073 0.17001879 0.17222292 0.1806387\n",
            " 0.17765811 0.16974327 0.16899186 0.17933626 0.17087038 0.16278021\n",
            " 0.16355667 0.15842204 0.14755166 0.15233563 0.1591985  0.1463995\n",
            " 0.14584847 0.15168441 0.15125861 0.14922981 0.13763306 0.14036318\n",
            " 0.12513463 0.12455855 0.14226675 0.12726362 0.12804008 0.13184721\n",
            " 0.14822793 0.12505949 0.12633688 0.13390225]\n",
            "1 day output [[0.13384315]]\n",
            "2 day input [0.16385723 0.16105197 0.15757044 0.16568566 0.17232311 0.17392611\n",
            " 0.18407013 0.18146525 0.18169067 0.17873513 0.17715717 0.18827802\n",
            " 0.18249217 0.17051972 0.16320601 0.16363181 0.1636819  0.17092048\n",
            " 0.17204759 0.1636819  0.16588604 0.15769568 0.14875391 0.14444584\n",
            " 0.13918597 0.13720726 0.13259862 0.1323732  0.13119599 0.15902317\n",
            " 0.17016907 0.16974327 0.17282405 0.16546024 0.16418284 0.16235441\n",
            " 0.1702943  0.17392611 0.16350657 0.15479023 0.15539136 0.16518472\n",
            " 0.16458359 0.15539136 0.15143394 0.14396994 0.13332498 0.14001252\n",
            " 0.14529743 0.1459737  0.14116468 0.14958046 0.14875391 0.14108954\n",
            " 0.13139637 0.12673763 0.14053851 0.12944271 0.11994991 0.1096556\n",
            " 0.1208516  0.13212273 0.13470257 0.14311835 0.14662492 0.15524108\n",
            " 0.1587226  0.16839073 0.17001879 0.17222292 0.1806387  0.17765811\n",
            " 0.16974327 0.16899186 0.17933626 0.17087038 0.16278021 0.16355667\n",
            " 0.15842204 0.14755166 0.15233563 0.1591985  0.1463995  0.14584847\n",
            " 0.15168441 0.15125861 0.14922981 0.13763306 0.14036318 0.12513463\n",
            " 0.12455855 0.14226675 0.12726362 0.12804008 0.13184721 0.14822793\n",
            " 0.12505949 0.12633688 0.13390225 0.13384315]\n",
            "2 day output [[0.13400051]]\n",
            "3 day input [0.16105197 0.15757044 0.16568566 0.17232311 0.17392611 0.18407013\n",
            " 0.18146525 0.18169067 0.17873513 0.17715717 0.18827802 0.18249217\n",
            " 0.17051972 0.16320601 0.16363181 0.1636819  0.17092048 0.17204759\n",
            " 0.1636819  0.16588604 0.15769568 0.14875391 0.14444584 0.13918597\n",
            " 0.13720726 0.13259862 0.1323732  0.13119599 0.15902317 0.17016907\n",
            " 0.16974327 0.17282405 0.16546024 0.16418284 0.16235441 0.1702943\n",
            " 0.17392611 0.16350657 0.15479023 0.15539136 0.16518472 0.16458359\n",
            " 0.15539136 0.15143394 0.14396994 0.13332498 0.14001252 0.14529743\n",
            " 0.1459737  0.14116468 0.14958046 0.14875391 0.14108954 0.13139637\n",
            " 0.12673763 0.14053851 0.12944271 0.11994991 0.1096556  0.1208516\n",
            " 0.13212273 0.13470257 0.14311835 0.14662492 0.15524108 0.1587226\n",
            " 0.16839073 0.17001879 0.17222292 0.1806387  0.17765811 0.16974327\n",
            " 0.16899186 0.17933626 0.17087038 0.16278021 0.16355667 0.15842204\n",
            " 0.14755166 0.15233563 0.1591985  0.1463995  0.14584847 0.15168441\n",
            " 0.15125861 0.14922981 0.13763306 0.14036318 0.12513463 0.12455855\n",
            " 0.14226675 0.12726362 0.12804008 0.13184721 0.14822793 0.12505949\n",
            " 0.12633688 0.13390225 0.13384315 0.13400051]\n",
            "3 day output [[0.13435383]]\n",
            "4 day input [0.15757044 0.16568566 0.17232311 0.17392611 0.18407013 0.18146525\n",
            " 0.18169067 0.17873513 0.17715717 0.18827802 0.18249217 0.17051972\n",
            " 0.16320601 0.16363181 0.1636819  0.17092048 0.17204759 0.1636819\n",
            " 0.16588604 0.15769568 0.14875391 0.14444584 0.13918597 0.13720726\n",
            " 0.13259862 0.1323732  0.13119599 0.15902317 0.17016907 0.16974327\n",
            " 0.17282405 0.16546024 0.16418284 0.16235441 0.1702943  0.17392611\n",
            " 0.16350657 0.15479023 0.15539136 0.16518472 0.16458359 0.15539136\n",
            " 0.15143394 0.14396994 0.13332498 0.14001252 0.14529743 0.1459737\n",
            " 0.14116468 0.14958046 0.14875391 0.14108954 0.13139637 0.12673763\n",
            " 0.14053851 0.12944271 0.11994991 0.1096556  0.1208516  0.13212273\n",
            " 0.13470257 0.14311835 0.14662492 0.15524108 0.1587226  0.16839073\n",
            " 0.17001879 0.17222292 0.1806387  0.17765811 0.16974327 0.16899186\n",
            " 0.17933626 0.17087038 0.16278021 0.16355667 0.15842204 0.14755166\n",
            " 0.15233563 0.1591985  0.1463995  0.14584847 0.15168441 0.15125861\n",
            " 0.14922981 0.13763306 0.14036318 0.12513463 0.12455855 0.14226675\n",
            " 0.12726362 0.12804008 0.13184721 0.14822793 0.12505949 0.12633688\n",
            " 0.13390225 0.13384315 0.13400051 0.13435383]\n",
            "4 day output [[0.13485402]]\n",
            "5 day input [0.16568566 0.17232311 0.17392611 0.18407013 0.18146525 0.18169067\n",
            " 0.17873513 0.17715717 0.18827802 0.18249217 0.17051972 0.16320601\n",
            " 0.16363181 0.1636819  0.17092048 0.17204759 0.1636819  0.16588604\n",
            " 0.15769568 0.14875391 0.14444584 0.13918597 0.13720726 0.13259862\n",
            " 0.1323732  0.13119599 0.15902317 0.17016907 0.16974327 0.17282405\n",
            " 0.16546024 0.16418284 0.16235441 0.1702943  0.17392611 0.16350657\n",
            " 0.15479023 0.15539136 0.16518472 0.16458359 0.15539136 0.15143394\n",
            " 0.14396994 0.13332498 0.14001252 0.14529743 0.1459737  0.14116468\n",
            " 0.14958046 0.14875391 0.14108954 0.13139637 0.12673763 0.14053851\n",
            " 0.12944271 0.11994991 0.1096556  0.1208516  0.13212273 0.13470257\n",
            " 0.14311835 0.14662492 0.15524108 0.1587226  0.16839073 0.17001879\n",
            " 0.17222292 0.1806387  0.17765811 0.16974327 0.16899186 0.17933626\n",
            " 0.17087038 0.16278021 0.16355667 0.15842204 0.14755166 0.15233563\n",
            " 0.1591985  0.1463995  0.14584847 0.15168441 0.15125861 0.14922981\n",
            " 0.13763306 0.14036318 0.12513463 0.12455855 0.14226675 0.12726362\n",
            " 0.12804008 0.13184721 0.14822793 0.12505949 0.12633688 0.13390225\n",
            " 0.13384315 0.13400051 0.13435383 0.13485402]\n",
            "5 day output [[0.1354524]]\n",
            "6 day input [0.17232311 0.17392611 0.18407013 0.18146525 0.18169067 0.17873513\n",
            " 0.17715717 0.18827802 0.18249217 0.17051972 0.16320601 0.16363181\n",
            " 0.1636819  0.17092048 0.17204759 0.1636819  0.16588604 0.15769568\n",
            " 0.14875391 0.14444584 0.13918597 0.13720726 0.13259862 0.1323732\n",
            " 0.13119599 0.15902317 0.17016907 0.16974327 0.17282405 0.16546024\n",
            " 0.16418284 0.16235441 0.1702943  0.17392611 0.16350657 0.15479023\n",
            " 0.15539136 0.16518472 0.16458359 0.15539136 0.15143394 0.14396994\n",
            " 0.13332498 0.14001252 0.14529743 0.1459737  0.14116468 0.14958046\n",
            " 0.14875391 0.14108954 0.13139637 0.12673763 0.14053851 0.12944271\n",
            " 0.11994991 0.1096556  0.1208516  0.13212273 0.13470257 0.14311835\n",
            " 0.14662492 0.15524108 0.1587226  0.16839073 0.17001879 0.17222292\n",
            " 0.1806387  0.17765811 0.16974327 0.16899186 0.17933626 0.17087038\n",
            " 0.16278021 0.16355667 0.15842204 0.14755166 0.15233563 0.1591985\n",
            " 0.1463995  0.14584847 0.15168441 0.15125861 0.14922981 0.13763306\n",
            " 0.14036318 0.12513463 0.12455855 0.14226675 0.12726362 0.12804008\n",
            " 0.13184721 0.14822793 0.12505949 0.12633688 0.13390225 0.13384315\n",
            " 0.13400051 0.13435383 0.13485402 0.1354524 ]\n",
            "6 day output [[0.13611068]]\n",
            "7 day input [0.17392611 0.18407013 0.18146525 0.18169067 0.17873513 0.17715717\n",
            " 0.18827802 0.18249217 0.17051972 0.16320601 0.16363181 0.1636819\n",
            " 0.17092048 0.17204759 0.1636819  0.16588604 0.15769568 0.14875391\n",
            " 0.14444584 0.13918597 0.13720726 0.13259862 0.1323732  0.13119599\n",
            " 0.15902317 0.17016907 0.16974327 0.17282405 0.16546024 0.16418284\n",
            " 0.16235441 0.1702943  0.17392611 0.16350657 0.15479023 0.15539136\n",
            " 0.16518472 0.16458359 0.15539136 0.15143394 0.14396994 0.13332498\n",
            " 0.14001252 0.14529743 0.1459737  0.14116468 0.14958046 0.14875391\n",
            " 0.14108954 0.13139637 0.12673763 0.14053851 0.12944271 0.11994991\n",
            " 0.1096556  0.1208516  0.13212273 0.13470257 0.14311835 0.14662492\n",
            " 0.15524108 0.1587226  0.16839073 0.17001879 0.17222292 0.1806387\n",
            " 0.17765811 0.16974327 0.16899186 0.17933626 0.17087038 0.16278021\n",
            " 0.16355667 0.15842204 0.14755166 0.15233563 0.1591985  0.1463995\n",
            " 0.14584847 0.15168441 0.15125861 0.14922981 0.13763306 0.14036318\n",
            " 0.12513463 0.12455855 0.14226675 0.12726362 0.12804008 0.13184721\n",
            " 0.14822793 0.12505949 0.12633688 0.13390225 0.13384315 0.13400051\n",
            " 0.13435383 0.13485402 0.1354524  0.13611068]\n",
            "7 day output [[0.13680187]]\n",
            "8 day input [0.18407013 0.18146525 0.18169067 0.17873513 0.17715717 0.18827802\n",
            " 0.18249217 0.17051972 0.16320601 0.16363181 0.1636819  0.17092048\n",
            " 0.17204759 0.1636819  0.16588604 0.15769568 0.14875391 0.14444584\n",
            " 0.13918597 0.13720726 0.13259862 0.1323732  0.13119599 0.15902317\n",
            " 0.17016907 0.16974327 0.17282405 0.16546024 0.16418284 0.16235441\n",
            " 0.1702943  0.17392611 0.16350657 0.15479023 0.15539136 0.16518472\n",
            " 0.16458359 0.15539136 0.15143394 0.14396994 0.13332498 0.14001252\n",
            " 0.14529743 0.1459737  0.14116468 0.14958046 0.14875391 0.14108954\n",
            " 0.13139637 0.12673763 0.14053851 0.12944271 0.11994991 0.1096556\n",
            " 0.1208516  0.13212273 0.13470257 0.14311835 0.14662492 0.15524108\n",
            " 0.1587226  0.16839073 0.17001879 0.17222292 0.1806387  0.17765811\n",
            " 0.16974327 0.16899186 0.17933626 0.17087038 0.16278021 0.16355667\n",
            " 0.15842204 0.14755166 0.15233563 0.1591985  0.1463995  0.14584847\n",
            " 0.15168441 0.15125861 0.14922981 0.13763306 0.14036318 0.12513463\n",
            " 0.12455855 0.14226675 0.12726362 0.12804008 0.13184721 0.14822793\n",
            " 0.12505949 0.12633688 0.13390225 0.13384315 0.13400051 0.13435383\n",
            " 0.13485402 0.1354524  0.13611068 0.13680187]\n",
            "8 day output [[0.13750821]]\n",
            "9 day input [0.18146525 0.18169067 0.17873513 0.17715717 0.18827802 0.18249217\n",
            " 0.17051972 0.16320601 0.16363181 0.1636819  0.17092048 0.17204759\n",
            " 0.1636819  0.16588604 0.15769568 0.14875391 0.14444584 0.13918597\n",
            " 0.13720726 0.13259862 0.1323732  0.13119599 0.15902317 0.17016907\n",
            " 0.16974327 0.17282405 0.16546024 0.16418284 0.16235441 0.1702943\n",
            " 0.17392611 0.16350657 0.15479023 0.15539136 0.16518472 0.16458359\n",
            " 0.15539136 0.15143394 0.14396994 0.13332498 0.14001252 0.14529743\n",
            " 0.1459737  0.14116468 0.14958046 0.14875391 0.14108954 0.13139637\n",
            " 0.12673763 0.14053851 0.12944271 0.11994991 0.1096556  0.1208516\n",
            " 0.13212273 0.13470257 0.14311835 0.14662492 0.15524108 0.1587226\n",
            " 0.16839073 0.17001879 0.17222292 0.1806387  0.17765811 0.16974327\n",
            " 0.16899186 0.17933626 0.17087038 0.16278021 0.16355667 0.15842204\n",
            " 0.14755166 0.15233563 0.1591985  0.1463995  0.14584847 0.15168441\n",
            " 0.15125861 0.14922981 0.13763306 0.14036318 0.12513463 0.12455855\n",
            " 0.14226675 0.12726362 0.12804008 0.13184721 0.14822793 0.12505949\n",
            " 0.12633688 0.13390225 0.13384315 0.13400051 0.13435383 0.13485402\n",
            " 0.1354524  0.13611068 0.13680187 0.13750821]\n",
            "9 day output [[0.13821828]]\n",
            "10 day input [0.18169067 0.17873513 0.17715717 0.18827802 0.18249217 0.17051972\n",
            " 0.16320601 0.16363181 0.1636819  0.17092048 0.17204759 0.1636819\n",
            " 0.16588604 0.15769568 0.14875391 0.14444584 0.13918597 0.13720726\n",
            " 0.13259862 0.1323732  0.13119599 0.15902317 0.17016907 0.16974327\n",
            " 0.17282405 0.16546024 0.16418284 0.16235441 0.1702943  0.17392611\n",
            " 0.16350657 0.15479023 0.15539136 0.16518472 0.16458359 0.15539136\n",
            " 0.15143394 0.14396994 0.13332498 0.14001252 0.14529743 0.1459737\n",
            " 0.14116468 0.14958046 0.14875391 0.14108954 0.13139637 0.12673763\n",
            " 0.14053851 0.12944271 0.11994991 0.1096556  0.1208516  0.13212273\n",
            " 0.13470257 0.14311835 0.14662492 0.15524108 0.1587226  0.16839073\n",
            " 0.17001879 0.17222292 0.1806387  0.17765811 0.16974327 0.16899186\n",
            " 0.17933626 0.17087038 0.16278021 0.16355667 0.15842204 0.14755166\n",
            " 0.15233563 0.1591985  0.1463995  0.14584847 0.15168441 0.15125861\n",
            " 0.14922981 0.13763306 0.14036318 0.12513463 0.12455855 0.14226675\n",
            " 0.12726362 0.12804008 0.13184721 0.14822793 0.12505949 0.12633688\n",
            " 0.13390225 0.13384315 0.13400051 0.13435383 0.13485402 0.1354524\n",
            " 0.13611068 0.13680187 0.13750821 0.13821828]\n",
            "10 day output [[0.13892463]]\n",
            "11 day input [0.17873513 0.17715717 0.18827802 0.18249217 0.17051972 0.16320601\n",
            " 0.16363181 0.1636819  0.17092048 0.17204759 0.1636819  0.16588604\n",
            " 0.15769568 0.14875391 0.14444584 0.13918597 0.13720726 0.13259862\n",
            " 0.1323732  0.13119599 0.15902317 0.17016907 0.16974327 0.17282405\n",
            " 0.16546024 0.16418284 0.16235441 0.1702943  0.17392611 0.16350657\n",
            " 0.15479023 0.15539136 0.16518472 0.16458359 0.15539136 0.15143394\n",
            " 0.14396994 0.13332498 0.14001252 0.14529743 0.1459737  0.14116468\n",
            " 0.14958046 0.14875391 0.14108954 0.13139637 0.12673763 0.14053851\n",
            " 0.12944271 0.11994991 0.1096556  0.1208516  0.13212273 0.13470257\n",
            " 0.14311835 0.14662492 0.15524108 0.1587226  0.16839073 0.17001879\n",
            " 0.17222292 0.1806387  0.17765811 0.16974327 0.16899186 0.17933626\n",
            " 0.17087038 0.16278021 0.16355667 0.15842204 0.14755166 0.15233563\n",
            " 0.1591985  0.1463995  0.14584847 0.15168441 0.15125861 0.14922981\n",
            " 0.13763306 0.14036318 0.12513463 0.12455855 0.14226675 0.12726362\n",
            " 0.12804008 0.13184721 0.14822793 0.12505949 0.12633688 0.13390225\n",
            " 0.13384315 0.13400051 0.13435383 0.13485402 0.1354524  0.13611068\n",
            " 0.13680187 0.13750821 0.13821828 0.13892463]\n",
            "11 day output [[0.13962236]]\n",
            "12 day input [0.17715717 0.18827802 0.18249217 0.17051972 0.16320601 0.16363181\n",
            " 0.1636819  0.17092048 0.17204759 0.1636819  0.16588604 0.15769568\n",
            " 0.14875391 0.14444584 0.13918597 0.13720726 0.13259862 0.1323732\n",
            " 0.13119599 0.15902317 0.17016907 0.16974327 0.17282405 0.16546024\n",
            " 0.16418284 0.16235441 0.1702943  0.17392611 0.16350657 0.15479023\n",
            " 0.15539136 0.16518472 0.16458359 0.15539136 0.15143394 0.14396994\n",
            " 0.13332498 0.14001252 0.14529743 0.1459737  0.14116468 0.14958046\n",
            " 0.14875391 0.14108954 0.13139637 0.12673763 0.14053851 0.12944271\n",
            " 0.11994991 0.1096556  0.1208516  0.13212273 0.13470257 0.14311835\n",
            " 0.14662492 0.15524108 0.1587226  0.16839073 0.17001879 0.17222292\n",
            " 0.1806387  0.17765811 0.16974327 0.16899186 0.17933626 0.17087038\n",
            " 0.16278021 0.16355667 0.15842204 0.14755166 0.15233563 0.1591985\n",
            " 0.1463995  0.14584847 0.15168441 0.15125861 0.14922981 0.13763306\n",
            " 0.14036318 0.12513463 0.12455855 0.14226675 0.12726362 0.12804008\n",
            " 0.13184721 0.14822793 0.12505949 0.12633688 0.13390225 0.13384315\n",
            " 0.13400051 0.13435383 0.13485402 0.1354524  0.13611068 0.13680187\n",
            " 0.13750821 0.13821828 0.13892463 0.13962236]\n",
            "12 day output [[0.14030807]]\n",
            "13 day input [0.18827802 0.18249217 0.17051972 0.16320601 0.16363181 0.1636819\n",
            " 0.17092048 0.17204759 0.1636819  0.16588604 0.15769568 0.14875391\n",
            " 0.14444584 0.13918597 0.13720726 0.13259862 0.1323732  0.13119599\n",
            " 0.15902317 0.17016907 0.16974327 0.17282405 0.16546024 0.16418284\n",
            " 0.16235441 0.1702943  0.17392611 0.16350657 0.15479023 0.15539136\n",
            " 0.16518472 0.16458359 0.15539136 0.15143394 0.14396994 0.13332498\n",
            " 0.14001252 0.14529743 0.1459737  0.14116468 0.14958046 0.14875391\n",
            " 0.14108954 0.13139637 0.12673763 0.14053851 0.12944271 0.11994991\n",
            " 0.1096556  0.1208516  0.13212273 0.13470257 0.14311835 0.14662492\n",
            " 0.15524108 0.1587226  0.16839073 0.17001879 0.17222292 0.1806387\n",
            " 0.17765811 0.16974327 0.16899186 0.17933626 0.17087038 0.16278021\n",
            " 0.16355667 0.15842204 0.14755166 0.15233563 0.1591985  0.1463995\n",
            " 0.14584847 0.15168441 0.15125861 0.14922981 0.13763306 0.14036318\n",
            " 0.12513463 0.12455855 0.14226675 0.12726362 0.12804008 0.13184721\n",
            " 0.14822793 0.12505949 0.12633688 0.13390225 0.13384315 0.13400051\n",
            " 0.13435383 0.13485402 0.1354524  0.13611068 0.13680187 0.13750821\n",
            " 0.13821828 0.13892463 0.13962236 0.14030807]\n",
            "13 day output [[0.14097926]]\n",
            "14 day input [0.18249217 0.17051972 0.16320601 0.16363181 0.1636819  0.17092048\n",
            " 0.17204759 0.1636819  0.16588604 0.15769568 0.14875391 0.14444584\n",
            " 0.13918597 0.13720726 0.13259862 0.1323732  0.13119599 0.15902317\n",
            " 0.17016907 0.16974327 0.17282405 0.16546024 0.16418284 0.16235441\n",
            " 0.1702943  0.17392611 0.16350657 0.15479023 0.15539136 0.16518472\n",
            " 0.16458359 0.15539136 0.15143394 0.14396994 0.13332498 0.14001252\n",
            " 0.14529743 0.1459737  0.14116468 0.14958046 0.14875391 0.14108954\n",
            " 0.13139637 0.12673763 0.14053851 0.12944271 0.11994991 0.1096556\n",
            " 0.1208516  0.13212273 0.13470257 0.14311835 0.14662492 0.15524108\n",
            " 0.1587226  0.16839073 0.17001879 0.17222292 0.1806387  0.17765811\n",
            " 0.16974327 0.16899186 0.17933626 0.17087038 0.16278021 0.16355667\n",
            " 0.15842204 0.14755166 0.15233563 0.1591985  0.1463995  0.14584847\n",
            " 0.15168441 0.15125861 0.14922981 0.13763306 0.14036318 0.12513463\n",
            " 0.12455855 0.14226675 0.12726362 0.12804008 0.13184721 0.14822793\n",
            " 0.12505949 0.12633688 0.13390225 0.13384315 0.13400051 0.13435383\n",
            " 0.13485402 0.1354524  0.13611068 0.13680187 0.13750821 0.13821828\n",
            " 0.13892463 0.13962236 0.14030807 0.14097926]\n",
            "14 day output [[0.14163412]]\n",
            "15 day input [0.17051972 0.16320601 0.16363181 0.1636819  0.17092048 0.17204759\n",
            " 0.1636819  0.16588604 0.15769568 0.14875391 0.14444584 0.13918597\n",
            " 0.13720726 0.13259862 0.1323732  0.13119599 0.15902317 0.17016907\n",
            " 0.16974327 0.17282405 0.16546024 0.16418284 0.16235441 0.1702943\n",
            " 0.17392611 0.16350657 0.15479023 0.15539136 0.16518472 0.16458359\n",
            " 0.15539136 0.15143394 0.14396994 0.13332498 0.14001252 0.14529743\n",
            " 0.1459737  0.14116468 0.14958046 0.14875391 0.14108954 0.13139637\n",
            " 0.12673763 0.14053851 0.12944271 0.11994991 0.1096556  0.1208516\n",
            " 0.13212273 0.13470257 0.14311835 0.14662492 0.15524108 0.1587226\n",
            " 0.16839073 0.17001879 0.17222292 0.1806387  0.17765811 0.16974327\n",
            " 0.16899186 0.17933626 0.17087038 0.16278021 0.16355667 0.15842204\n",
            " 0.14755166 0.15233563 0.1591985  0.1463995  0.14584847 0.15168441\n",
            " 0.15125861 0.14922981 0.13763306 0.14036318 0.12513463 0.12455855\n",
            " 0.14226675 0.12726362 0.12804008 0.13184721 0.14822793 0.12505949\n",
            " 0.12633688 0.13390225 0.13384315 0.13400051 0.13435383 0.13485402\n",
            " 0.1354524  0.13611068 0.13680187 0.13750821 0.13821828 0.13892463\n",
            " 0.13962236 0.14030807 0.14097926 0.14163412]\n",
            "15 day output [[0.14227146]]\n",
            "16 day input [0.16320601 0.16363181 0.1636819  0.17092048 0.17204759 0.1636819\n",
            " 0.16588604 0.15769568 0.14875391 0.14444584 0.13918597 0.13720726\n",
            " 0.13259862 0.1323732  0.13119599 0.15902317 0.17016907 0.16974327\n",
            " 0.17282405 0.16546024 0.16418284 0.16235441 0.1702943  0.17392611\n",
            " 0.16350657 0.15479023 0.15539136 0.16518472 0.16458359 0.15539136\n",
            " 0.15143394 0.14396994 0.13332498 0.14001252 0.14529743 0.1459737\n",
            " 0.14116468 0.14958046 0.14875391 0.14108954 0.13139637 0.12673763\n",
            " 0.14053851 0.12944271 0.11994991 0.1096556  0.1208516  0.13212273\n",
            " 0.13470257 0.14311835 0.14662492 0.15524108 0.1587226  0.16839073\n",
            " 0.17001879 0.17222292 0.1806387  0.17765811 0.16974327 0.16899186\n",
            " 0.17933626 0.17087038 0.16278021 0.16355667 0.15842204 0.14755166\n",
            " 0.15233563 0.1591985  0.1463995  0.14584847 0.15168441 0.15125861\n",
            " 0.14922981 0.13763306 0.14036318 0.12513463 0.12455855 0.14226675\n",
            " 0.12726362 0.12804008 0.13184721 0.14822793 0.12505949 0.12633688\n",
            " 0.13390225 0.13384315 0.13400051 0.13435383 0.13485402 0.1354524\n",
            " 0.13611068 0.13680187 0.13750821 0.13821828 0.13892463 0.13962236\n",
            " 0.14030807 0.14097926 0.14163412 0.14227146]\n",
            "16 day output [[0.14289041]]\n",
            "17 day input [0.16363181 0.1636819  0.17092048 0.17204759 0.1636819  0.16588604\n",
            " 0.15769568 0.14875391 0.14444584 0.13918597 0.13720726 0.13259862\n",
            " 0.1323732  0.13119599 0.15902317 0.17016907 0.16974327 0.17282405\n",
            " 0.16546024 0.16418284 0.16235441 0.1702943  0.17392611 0.16350657\n",
            " 0.15479023 0.15539136 0.16518472 0.16458359 0.15539136 0.15143394\n",
            " 0.14396994 0.13332498 0.14001252 0.14529743 0.1459737  0.14116468\n",
            " 0.14958046 0.14875391 0.14108954 0.13139637 0.12673763 0.14053851\n",
            " 0.12944271 0.11994991 0.1096556  0.1208516  0.13212273 0.13470257\n",
            " 0.14311835 0.14662492 0.15524108 0.1587226  0.16839073 0.17001879\n",
            " 0.17222292 0.1806387  0.17765811 0.16974327 0.16899186 0.17933626\n",
            " 0.17087038 0.16278021 0.16355667 0.15842204 0.14755166 0.15233563\n",
            " 0.1591985  0.1463995  0.14584847 0.15168441 0.15125861 0.14922981\n",
            " 0.13763306 0.14036318 0.12513463 0.12455855 0.14226675 0.12726362\n",
            " 0.12804008 0.13184721 0.14822793 0.12505949 0.12633688 0.13390225\n",
            " 0.13384315 0.13400051 0.13435383 0.13485402 0.1354524  0.13611068\n",
            " 0.13680187 0.13750821 0.13821828 0.13892463 0.13962236 0.14030807\n",
            " 0.14097926 0.14163412 0.14227146 0.14289041]\n",
            "17 day output [[0.14349054]]\n",
            "18 day input [0.1636819  0.17092048 0.17204759 0.1636819  0.16588604 0.15769568\n",
            " 0.14875391 0.14444584 0.13918597 0.13720726 0.13259862 0.1323732\n",
            " 0.13119599 0.15902317 0.17016907 0.16974327 0.17282405 0.16546024\n",
            " 0.16418284 0.16235441 0.1702943  0.17392611 0.16350657 0.15479023\n",
            " 0.15539136 0.16518472 0.16458359 0.15539136 0.15143394 0.14396994\n",
            " 0.13332498 0.14001252 0.14529743 0.1459737  0.14116468 0.14958046\n",
            " 0.14875391 0.14108954 0.13139637 0.12673763 0.14053851 0.12944271\n",
            " 0.11994991 0.1096556  0.1208516  0.13212273 0.13470257 0.14311835\n",
            " 0.14662492 0.15524108 0.1587226  0.16839073 0.17001879 0.17222292\n",
            " 0.1806387  0.17765811 0.16974327 0.16899186 0.17933626 0.17087038\n",
            " 0.16278021 0.16355667 0.15842204 0.14755166 0.15233563 0.1591985\n",
            " 0.1463995  0.14584847 0.15168441 0.15125861 0.14922981 0.13763306\n",
            " 0.14036318 0.12513463 0.12455855 0.14226675 0.12726362 0.12804008\n",
            " 0.13184721 0.14822793 0.12505949 0.12633688 0.13390225 0.13384315\n",
            " 0.13400051 0.13435383 0.13485402 0.1354524  0.13611068 0.13680187\n",
            " 0.13750821 0.13821828 0.13892463 0.13962236 0.14030807 0.14097926\n",
            " 0.14163412 0.14227146 0.14289041 0.14349054]\n",
            "18 day output [[0.14407176]]\n",
            "19 day input [0.17092048 0.17204759 0.1636819  0.16588604 0.15769568 0.14875391\n",
            " 0.14444584 0.13918597 0.13720726 0.13259862 0.1323732  0.13119599\n",
            " 0.15902317 0.17016907 0.16974327 0.17282405 0.16546024 0.16418284\n",
            " 0.16235441 0.1702943  0.17392611 0.16350657 0.15479023 0.15539136\n",
            " 0.16518472 0.16458359 0.15539136 0.15143394 0.14396994 0.13332498\n",
            " 0.14001252 0.14529743 0.1459737  0.14116468 0.14958046 0.14875391\n",
            " 0.14108954 0.13139637 0.12673763 0.14053851 0.12944271 0.11994991\n",
            " 0.1096556  0.1208516  0.13212273 0.13470257 0.14311835 0.14662492\n",
            " 0.15524108 0.1587226  0.16839073 0.17001879 0.17222292 0.1806387\n",
            " 0.17765811 0.16974327 0.16899186 0.17933626 0.17087038 0.16278021\n",
            " 0.16355667 0.15842204 0.14755166 0.15233563 0.1591985  0.1463995\n",
            " 0.14584847 0.15168441 0.15125861 0.14922981 0.13763306 0.14036318\n",
            " 0.12513463 0.12455855 0.14226675 0.12726362 0.12804008 0.13184721\n",
            " 0.14822793 0.12505949 0.12633688 0.13390225 0.13384315 0.13400051\n",
            " 0.13435383 0.13485402 0.1354524  0.13611068 0.13680187 0.13750821\n",
            " 0.13821828 0.13892463 0.13962236 0.14030807 0.14097926 0.14163412\n",
            " 0.14227146 0.14289041 0.14349054 0.14407176]\n",
            "19 day output [[0.14463425]]\n",
            "20 day input [0.17204759 0.1636819  0.16588604 0.15769568 0.14875391 0.14444584\n",
            " 0.13918597 0.13720726 0.13259862 0.1323732  0.13119599 0.15902317\n",
            " 0.17016907 0.16974327 0.17282405 0.16546024 0.16418284 0.16235441\n",
            " 0.1702943  0.17392611 0.16350657 0.15479023 0.15539136 0.16518472\n",
            " 0.16458359 0.15539136 0.15143394 0.14396994 0.13332498 0.14001252\n",
            " 0.14529743 0.1459737  0.14116468 0.14958046 0.14875391 0.14108954\n",
            " 0.13139637 0.12673763 0.14053851 0.12944271 0.11994991 0.1096556\n",
            " 0.1208516  0.13212273 0.13470257 0.14311835 0.14662492 0.15524108\n",
            " 0.1587226  0.16839073 0.17001879 0.17222292 0.1806387  0.17765811\n",
            " 0.16974327 0.16899186 0.17933626 0.17087038 0.16278021 0.16355667\n",
            " 0.15842204 0.14755166 0.15233563 0.1591985  0.1463995  0.14584847\n",
            " 0.15168441 0.15125861 0.14922981 0.13763306 0.14036318 0.12513463\n",
            " 0.12455855 0.14226675 0.12726362 0.12804008 0.13184721 0.14822793\n",
            " 0.12505949 0.12633688 0.13390225 0.13384315 0.13400051 0.13435383\n",
            " 0.13485402 0.1354524  0.13611068 0.13680187 0.13750821 0.13821828\n",
            " 0.13892463 0.13962236 0.14030807 0.14097926 0.14163412 0.14227146\n",
            " 0.14289041 0.14349054 0.14407176 0.14463425]\n",
            "20 day output [[0.14517842]]\n",
            "21 day input [0.1636819  0.16588604 0.15769568 0.14875391 0.14444584 0.13918597\n",
            " 0.13720726 0.13259862 0.1323732  0.13119599 0.15902317 0.17016907\n",
            " 0.16974327 0.17282405 0.16546024 0.16418284 0.16235441 0.1702943\n",
            " 0.17392611 0.16350657 0.15479023 0.15539136 0.16518472 0.16458359\n",
            " 0.15539136 0.15143394 0.14396994 0.13332498 0.14001252 0.14529743\n",
            " 0.1459737  0.14116468 0.14958046 0.14875391 0.14108954 0.13139637\n",
            " 0.12673763 0.14053851 0.12944271 0.11994991 0.1096556  0.1208516\n",
            " 0.13212273 0.13470257 0.14311835 0.14662492 0.15524108 0.1587226\n",
            " 0.16839073 0.17001879 0.17222292 0.1806387  0.17765811 0.16974327\n",
            " 0.16899186 0.17933626 0.17087038 0.16278021 0.16355667 0.15842204\n",
            " 0.14755166 0.15233563 0.1591985  0.1463995  0.14584847 0.15168441\n",
            " 0.15125861 0.14922981 0.13763306 0.14036318 0.12513463 0.12455855\n",
            " 0.14226675 0.12726362 0.12804008 0.13184721 0.14822793 0.12505949\n",
            " 0.12633688 0.13390225 0.13384315 0.13400051 0.13435383 0.13485402\n",
            " 0.1354524  0.13611068 0.13680187 0.13750821 0.13821828 0.13892463\n",
            " 0.13962236 0.14030807 0.14097926 0.14163412 0.14227146 0.14289041\n",
            " 0.14349054 0.14407176 0.14463425 0.14517842]\n",
            "21 day output [[0.14570493]]\n",
            "22 day input [0.16588604 0.15769568 0.14875391 0.14444584 0.13918597 0.13720726\n",
            " 0.13259862 0.1323732  0.13119599 0.15902317 0.17016907 0.16974327\n",
            " 0.17282405 0.16546024 0.16418284 0.16235441 0.1702943  0.17392611\n",
            " 0.16350657 0.15479023 0.15539136 0.16518472 0.16458359 0.15539136\n",
            " 0.15143394 0.14396994 0.13332498 0.14001252 0.14529743 0.1459737\n",
            " 0.14116468 0.14958046 0.14875391 0.14108954 0.13139637 0.12673763\n",
            " 0.14053851 0.12944271 0.11994991 0.1096556  0.1208516  0.13212273\n",
            " 0.13470257 0.14311835 0.14662492 0.15524108 0.1587226  0.16839073\n",
            " 0.17001879 0.17222292 0.1806387  0.17765811 0.16974327 0.16899186\n",
            " 0.17933626 0.17087038 0.16278021 0.16355667 0.15842204 0.14755166\n",
            " 0.15233563 0.1591985  0.1463995  0.14584847 0.15168441 0.15125861\n",
            " 0.14922981 0.13763306 0.14036318 0.12513463 0.12455855 0.14226675\n",
            " 0.12726362 0.12804008 0.13184721 0.14822793 0.12505949 0.12633688\n",
            " 0.13390225 0.13384315 0.13400051 0.13435383 0.13485402 0.1354524\n",
            " 0.13611068 0.13680187 0.13750821 0.13821828 0.13892463 0.13962236\n",
            " 0.14030807 0.14097926 0.14163412 0.14227146 0.14289041 0.14349054\n",
            " 0.14407176 0.14463425 0.14517842 0.14570493]\n",
            "22 day output [[0.1462145]]\n",
            "23 day input [0.15769568 0.14875391 0.14444584 0.13918597 0.13720726 0.13259862\n",
            " 0.1323732  0.13119599 0.15902317 0.17016907 0.16974327 0.17282405\n",
            " 0.16546024 0.16418284 0.16235441 0.1702943  0.17392611 0.16350657\n",
            " 0.15479023 0.15539136 0.16518472 0.16458359 0.15539136 0.15143394\n",
            " 0.14396994 0.13332498 0.14001252 0.14529743 0.1459737  0.14116468\n",
            " 0.14958046 0.14875391 0.14108954 0.13139637 0.12673763 0.14053851\n",
            " 0.12944271 0.11994991 0.1096556  0.1208516  0.13212273 0.13470257\n",
            " 0.14311835 0.14662492 0.15524108 0.1587226  0.16839073 0.17001879\n",
            " 0.17222292 0.1806387  0.17765811 0.16974327 0.16899186 0.17933626\n",
            " 0.17087038 0.16278021 0.16355667 0.15842204 0.14755166 0.15233563\n",
            " 0.1591985  0.1463995  0.14584847 0.15168441 0.15125861 0.14922981\n",
            " 0.13763306 0.14036318 0.12513463 0.12455855 0.14226675 0.12726362\n",
            " 0.12804008 0.13184721 0.14822793 0.12505949 0.12633688 0.13390225\n",
            " 0.13384315 0.13400051 0.13435383 0.13485402 0.1354524  0.13611068\n",
            " 0.13680187 0.13750821 0.13821828 0.13892463 0.13962236 0.14030807\n",
            " 0.14097926 0.14163412 0.14227146 0.14289041 0.14349054 0.14407176\n",
            " 0.14463425 0.14517842 0.14570493 0.1462145 ]\n",
            "23 day output [[0.14670809]]\n",
            "24 day input [0.14875391 0.14444584 0.13918597 0.13720726 0.13259862 0.1323732\n",
            " 0.13119599 0.15902317 0.17016907 0.16974327 0.17282405 0.16546024\n",
            " 0.16418284 0.16235441 0.1702943  0.17392611 0.16350657 0.15479023\n",
            " 0.15539136 0.16518472 0.16458359 0.15539136 0.15143394 0.14396994\n",
            " 0.13332498 0.14001252 0.14529743 0.1459737  0.14116468 0.14958046\n",
            " 0.14875391 0.14108954 0.13139637 0.12673763 0.14053851 0.12944271\n",
            " 0.11994991 0.1096556  0.1208516  0.13212273 0.13470257 0.14311835\n",
            " 0.14662492 0.15524108 0.1587226  0.16839073 0.17001879 0.17222292\n",
            " 0.1806387  0.17765811 0.16974327 0.16899186 0.17933626 0.17087038\n",
            " 0.16278021 0.16355667 0.15842204 0.14755166 0.15233563 0.1591985\n",
            " 0.1463995  0.14584847 0.15168441 0.15125861 0.14922981 0.13763306\n",
            " 0.14036318 0.12513463 0.12455855 0.14226675 0.12726362 0.12804008\n",
            " 0.13184721 0.14822793 0.12505949 0.12633688 0.13390225 0.13384315\n",
            " 0.13400051 0.13435383 0.13485402 0.1354524  0.13611068 0.13680187\n",
            " 0.13750821 0.13821828 0.13892463 0.13962236 0.14030807 0.14097926\n",
            " 0.14163412 0.14227146 0.14289041 0.14349054 0.14407176 0.14463425\n",
            " 0.14517842 0.14570493 0.1462145  0.14670809]\n",
            "24 day output [[0.14718659]]\n",
            "25 day input [0.14444584 0.13918597 0.13720726 0.13259862 0.1323732  0.13119599\n",
            " 0.15902317 0.17016907 0.16974327 0.17282405 0.16546024 0.16418284\n",
            " 0.16235441 0.1702943  0.17392611 0.16350657 0.15479023 0.15539136\n",
            " 0.16518472 0.16458359 0.15539136 0.15143394 0.14396994 0.13332498\n",
            " 0.14001252 0.14529743 0.1459737  0.14116468 0.14958046 0.14875391\n",
            " 0.14108954 0.13139637 0.12673763 0.14053851 0.12944271 0.11994991\n",
            " 0.1096556  0.1208516  0.13212273 0.13470257 0.14311835 0.14662492\n",
            " 0.15524108 0.1587226  0.16839073 0.17001879 0.17222292 0.1806387\n",
            " 0.17765811 0.16974327 0.16899186 0.17933626 0.17087038 0.16278021\n",
            " 0.16355667 0.15842204 0.14755166 0.15233563 0.1591985  0.1463995\n",
            " 0.14584847 0.15168441 0.15125861 0.14922981 0.13763306 0.14036318\n",
            " 0.12513463 0.12455855 0.14226675 0.12726362 0.12804008 0.13184721\n",
            " 0.14822793 0.12505949 0.12633688 0.13390225 0.13384315 0.13400051\n",
            " 0.13435383 0.13485402 0.1354524  0.13611068 0.13680187 0.13750821\n",
            " 0.13821828 0.13892463 0.13962236 0.14030807 0.14097926 0.14163412\n",
            " 0.14227146 0.14289041 0.14349054 0.14407176 0.14463425 0.14517842\n",
            " 0.14570493 0.1462145  0.14670809 0.14718659]\n",
            "25 day output [[0.14765108]]\n",
            "26 day input [0.13918597 0.13720726 0.13259862 0.1323732  0.13119599 0.15902317\n",
            " 0.17016907 0.16974327 0.17282405 0.16546024 0.16418284 0.16235441\n",
            " 0.1702943  0.17392611 0.16350657 0.15479023 0.15539136 0.16518472\n",
            " 0.16458359 0.15539136 0.15143394 0.14396994 0.13332498 0.14001252\n",
            " 0.14529743 0.1459737  0.14116468 0.14958046 0.14875391 0.14108954\n",
            " 0.13139637 0.12673763 0.14053851 0.12944271 0.11994991 0.1096556\n",
            " 0.1208516  0.13212273 0.13470257 0.14311835 0.14662492 0.15524108\n",
            " 0.1587226  0.16839073 0.17001879 0.17222292 0.1806387  0.17765811\n",
            " 0.16974327 0.16899186 0.17933626 0.17087038 0.16278021 0.16355667\n",
            " 0.15842204 0.14755166 0.15233563 0.1591985  0.1463995  0.14584847\n",
            " 0.15168441 0.15125861 0.14922981 0.13763306 0.14036318 0.12513463\n",
            " 0.12455855 0.14226675 0.12726362 0.12804008 0.13184721 0.14822793\n",
            " 0.12505949 0.12633688 0.13390225 0.13384315 0.13400051 0.13435383\n",
            " 0.13485402 0.1354524  0.13611068 0.13680187 0.13750821 0.13821828\n",
            " 0.13892463 0.13962236 0.14030807 0.14097926 0.14163412 0.14227146\n",
            " 0.14289041 0.14349054 0.14407176 0.14463425 0.14517842 0.14570493\n",
            " 0.1462145  0.14670809 0.14718659 0.14765108]\n",
            "26 day output [[0.14810255]]\n",
            "27 day input [0.13720726 0.13259862 0.1323732  0.13119599 0.15902317 0.17016907\n",
            " 0.16974327 0.17282405 0.16546024 0.16418284 0.16235441 0.1702943\n",
            " 0.17392611 0.16350657 0.15479023 0.15539136 0.16518472 0.16458359\n",
            " 0.15539136 0.15143394 0.14396994 0.13332498 0.14001252 0.14529743\n",
            " 0.1459737  0.14116468 0.14958046 0.14875391 0.14108954 0.13139637\n",
            " 0.12673763 0.14053851 0.12944271 0.11994991 0.1096556  0.1208516\n",
            " 0.13212273 0.13470257 0.14311835 0.14662492 0.15524108 0.1587226\n",
            " 0.16839073 0.17001879 0.17222292 0.1806387  0.17765811 0.16974327\n",
            " 0.16899186 0.17933626 0.17087038 0.16278021 0.16355667 0.15842204\n",
            " 0.14755166 0.15233563 0.1591985  0.1463995  0.14584847 0.15168441\n",
            " 0.15125861 0.14922981 0.13763306 0.14036318 0.12513463 0.12455855\n",
            " 0.14226675 0.12726362 0.12804008 0.13184721 0.14822793 0.12505949\n",
            " 0.12633688 0.13390225 0.13384315 0.13400051 0.13435383 0.13485402\n",
            " 0.1354524  0.13611068 0.13680187 0.13750821 0.13821828 0.13892463\n",
            " 0.13962236 0.14030807 0.14097926 0.14163412 0.14227146 0.14289041\n",
            " 0.14349054 0.14407176 0.14463425 0.14517842 0.14570493 0.1462145\n",
            " 0.14670809 0.14718659 0.14765108 0.14810255]\n",
            "27 day output [[0.14854203]]\n",
            "28 day input [0.13259862 0.1323732  0.13119599 0.15902317 0.17016907 0.16974327\n",
            " 0.17282405 0.16546024 0.16418284 0.16235441 0.1702943  0.17392611\n",
            " 0.16350657 0.15479023 0.15539136 0.16518472 0.16458359 0.15539136\n",
            " 0.15143394 0.14396994 0.13332498 0.14001252 0.14529743 0.1459737\n",
            " 0.14116468 0.14958046 0.14875391 0.14108954 0.13139637 0.12673763\n",
            " 0.14053851 0.12944271 0.11994991 0.1096556  0.1208516  0.13212273\n",
            " 0.13470257 0.14311835 0.14662492 0.15524108 0.1587226  0.16839073\n",
            " 0.17001879 0.17222292 0.1806387  0.17765811 0.16974327 0.16899186\n",
            " 0.17933626 0.17087038 0.16278021 0.16355667 0.15842204 0.14755166\n",
            " 0.15233563 0.1591985  0.1463995  0.14584847 0.15168441 0.15125861\n",
            " 0.14922981 0.13763306 0.14036318 0.12513463 0.12455855 0.14226675\n",
            " 0.12726362 0.12804008 0.13184721 0.14822793 0.12505949 0.12633688\n",
            " 0.13390225 0.13384315 0.13400051 0.13435383 0.13485402 0.1354524\n",
            " 0.13611068 0.13680187 0.13750821 0.13821828 0.13892463 0.13962236\n",
            " 0.14030807 0.14097926 0.14163412 0.14227146 0.14289041 0.14349054\n",
            " 0.14407176 0.14463425 0.14517842 0.14570493 0.1462145  0.14670809\n",
            " 0.14718659 0.14765108 0.14810255 0.14854203]\n",
            "28 day output [[0.14897059]]\n",
            "29 day input [0.1323732  0.13119599 0.15902317 0.17016907 0.16974327 0.17282405\n",
            " 0.16546024 0.16418284 0.16235441 0.1702943  0.17392611 0.16350657\n",
            " 0.15479023 0.15539136 0.16518472 0.16458359 0.15539136 0.15143394\n",
            " 0.14396994 0.13332498 0.14001252 0.14529743 0.1459737  0.14116468\n",
            " 0.14958046 0.14875391 0.14108954 0.13139637 0.12673763 0.14053851\n",
            " 0.12944271 0.11994991 0.1096556  0.1208516  0.13212273 0.13470257\n",
            " 0.14311835 0.14662492 0.15524108 0.1587226  0.16839073 0.17001879\n",
            " 0.17222292 0.1806387  0.17765811 0.16974327 0.16899186 0.17933626\n",
            " 0.17087038 0.16278021 0.16355667 0.15842204 0.14755166 0.15233563\n",
            " 0.1591985  0.1463995  0.14584847 0.15168441 0.15125861 0.14922981\n",
            " 0.13763306 0.14036318 0.12513463 0.12455855 0.14226675 0.12726362\n",
            " 0.12804008 0.13184721 0.14822793 0.12505949 0.12633688 0.13390225\n",
            " 0.13384315 0.13400051 0.13435383 0.13485402 0.1354524  0.13611068\n",
            " 0.13680187 0.13750821 0.13821828 0.13892463 0.13962236 0.14030807\n",
            " 0.14097926 0.14163412 0.14227146 0.14289041 0.14349054 0.14407176\n",
            " 0.14463425 0.14517842 0.14570493 0.1462145  0.14670809 0.14718659\n",
            " 0.14765108 0.14810255 0.14854203 0.14897059]\n",
            "29 day output [[0.14938916]]\n",
            "[[0.13390225172042847], [0.13384315371513367], [0.1340005099773407], [0.13435383141040802], [0.1348540186882019], [0.13545240461826324], [0.13611067831516266], [0.13680186867713928], [0.13750821352005005], [0.13821828365325928], [0.13892462849617004], [0.13962236046791077], [0.14030806720256805], [0.14097926020622253], [0.14163412153720856], [0.14227145910263062], [0.14289040863513947], [0.14349053800106049], [0.1440717577934265], [0.14463424682617188], [0.14517842233181], [0.14570492506027222], [0.14621450006961823], [0.14670808613300323], [0.14718659222126007], [0.1476510763168335], [0.1481025516986847], [0.14854203164577484], [0.1489705890417099], [0.14938916265964508]]\n"
          ]
        }
      ]
    },
    {
      "cell_type": "code",
      "source": [
        ""
      ],
      "metadata": {
        "id": "1TpobEen8sDj"
      },
      "execution_count": null,
      "outputs": []
    }
  ]
}